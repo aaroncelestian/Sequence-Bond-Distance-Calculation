{
 "cells": [
  {
   "cell_type": "code",
   "execution_count": null,
   "metadata": {
    "collapsed": false
   },
   "outputs": [],
   "source": [
    "#import the needed libraries\n",
    "import numpy as np\n",
    "import pandas as pd\n",
    "#import matplotlib.pyplot as plt"
   ]
  },
  {
   "cell_type": "code",
   "execution_count": null,
   "metadata": {
    "collapsed": true
   },
   "outputs": [],
   "source": [
    "# type your data path here....\n",
    "data=pd.read_csv('/Users/acelesti/Desktop/seq/DATA-Table.csv')"
   ]
  },
  {
   "cell_type": "code",
   "execution_count": null,
   "metadata": {
    "collapsed": true
   },
   "outputs": [],
   "source": [
    "# thhis definition is to calculated the bond distance\n",
    "\n",
    "def bondlength_o1o3 (a, b, c, o1, o3):\n",
    "    #build the metric tensor\n",
    "    G = np.matrix([[a*a, 0, 0],[0, b*b, 0],[0, 0, c*c]])  \n",
    "    # find the difference between the two vectors\n",
    "    diffv = np.subtract(o3, o1)\n",
    "    # calculate the square of the length of the two vectors\n",
    "    bonddis_squared = diffv*G*diffv.T\n",
    "    # calculate the length of the two vectors (aka bondlength)\n",
    "    bonddis = float(np.sqrt(bonddis_squared))\n",
    "    # print out a float \n",
    "    return float(bonddis)"
   ]
  },
  {
   "cell_type": "code",
   "execution_count": null,
   "metadata": {
    "collapsed": true
   },
   "outputs": [],
   "source": [
    "# this chunk of code sets up the variables for the bondlength calc\n",
    "# it grabs the needed x/a, y/b, z/c coordiantees for each atom from the\n",
    "# master data table (called 'data') \n",
    "\n",
    "bondlist = pd.DataFrame(columns=['o1o3'])\n",
    "\n",
    "for i in data.index:\n",
    "    a=b=c=data.ix[i,'a']\n",
    "    o1 = ([[data.ix[i,'O1-x'],data.ix[i,'O1-y'],data.ix[i,'O1-z']]])\n",
    "    o3 = ([[data.ix[i,'O3-x'],data.ix[i,'O3-y'],data.ix[i,'O3-z']]])\n",
    "    bonddis = bondlength_o1o3(a,b,c,o1,o3)\n",
    "   # print bonddis\n",
    "    bondlist.loc[i] = [bonddis]"
   ]
  },
  {
   "cell_type": "code",
   "execution_count": null,
   "metadata": {
    "collapsed": true
   },
   "outputs": [],
   "source": [
    "#output the data to a csv file\n",
    "bondlist.to_csv('./bondlengths_O1O3_ajc.csv', sep=',')"
   ]
  },
  {
   "cell_type": "code",
   "execution_count": null,
   "metadata": {
    "collapsed": false
   },
   "outputs": [],
   "source": [
    "# for a quick view of your newly created file....\n",
    "print bondlist"
   ]
  },
  {
   "cell_type": "code",
   "execution_count": null,
   "metadata": {
    "collapsed": true
   },
   "outputs": [],
   "source": []
  }
 ],
 "metadata": {
  "kernelspec": {
   "display_name": "Python 2",
   "language": "python",
   "name": "python2"
  },
  "language_info": {
   "codemirror_mode": {
    "name": "ipython",
    "version": 2
   },
   "file_extension": ".py",
   "mimetype": "text/x-python",
   "name": "python",
   "nbconvert_exporter": "python",
   "pygments_lexer": "ipython2",
   "version": "2.7.10"
  }
 },
 "nbformat": 4,
 "nbformat_minor": 0
}
